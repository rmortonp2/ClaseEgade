{
 "cells": [
  {
   "cell_type": "markdown",
   "id": "5d77e4e1",
   "metadata": {},
   "source": [
    "# Mid-Term Presentation"
   ]
  },
  {
   "cell_type": "markdown",
   "id": "4a16b49d",
   "metadata": {},
   "source": [
    "    Ricardo Morton Perez    A01451487"
   ]
  },
  {
   "cell_type": "markdown",
   "id": "3df8bee9",
   "metadata": {},
   "source": [
    "<img src=\"Downloads/Picture1.png\">  \n",
    "\n",
    "# Countries of the World\n",
    "\n",
    "Datasets contains information on populations, region, area size, infant mortality\n"
   ]
  },
  {
   "cell_type": "markdown",
   "id": "0bac90cb",
   "metadata": {},
   "source": [
    "### El dataset contiene informacion estadistica acerca de cada uno de los paises del mundo, sus datos reflejan la cantidad de la habitantes por pais, asì como el tamaño, la densidad de su poblacion por milla cuadrada y el porcentaje de actividades economicas por cada uno de los paises del mundo."
   ]
  },
  {
   "cell_type": "markdown",
   "id": "2f26db60",
   "metadata": {},
   "source": [
    "#####       Country:  Pais\n",
    "#####       Region:  Region a la que pertenece el pais\n",
    "#####       Population:  Numero de Habitantes\n",
    "#####       Area (sq. mi.):  Area geografica en millas cuadradas\n",
    "#####       Pop. Density (per sq. mi.):  Densidad de habitantes por milla cuadrada\n",
    "#####       Coastline (coast/area ratio):  Litoral ( proporcion costa/area)\n",
    "#####       Net migration:  Migracion Neta\n",
    "#####       Infant mortality (per 1000 births):  Mortalidad Infantil\n",
    "#####       GDP ( per capita):  Producto Interno Bruto\n",
    "#####       Literacy (%):  Literatura\n",
    "#####       Phones (per 1000):   Telefonos (por carda 1000)\n",
    "#####       Arable (%):  Cultivable (%)\n",
    "#####       Crops (%):  Cultivos (%)\n",
    "#####       Other (%):  Otros (*)\n",
    "#####       Climate:  Climatizado\n",
    "#####       Birthrate:  Tasa de Natalidad\n",
    "#####       Deathrate:  Tasa de Mortalidad\n",
    "#####       Agriculture:  Porcentaje de Agricultura\n",
    "#####       Industry:  Porcentaje de Industria\n",
    "#####       Service:  Porcentaje de Servicio\n",
    " "
   ]
  },
  {
   "cell_type": "markdown",
   "id": "60e4d1ee",
   "metadata": {},
   "source": [
    "### 1. Descripcion de los Datos"
   ]
  },
  {
   "cell_type": "markdown",
   "id": "3cba0ce6",
   "metadata": {},
   "source": [
    "Instalamos las librerias necesarias:"
   ]
  },
  {
   "cell_type": "code",
   "execution_count": 5,
   "id": "17a8fadf",
   "metadata": {},
   "outputs": [
    {
     "name": "stdout",
     "output_type": "stream",
     "text": [
      "Requirement already satisfied: pandas in /opt/anaconda3/lib/python3.9/site-packages (1.4.2)\n",
      "Requirement already satisfied: python-dateutil>=2.8.1 in /opt/anaconda3/lib/python3.9/site-packages (from pandas) (2.8.2)\n",
      "Requirement already satisfied: pytz>=2020.1 in /opt/anaconda3/lib/python3.9/site-packages (from pandas) (2021.3)\n",
      "Requirement already satisfied: numpy>=1.18.5 in /opt/anaconda3/lib/python3.9/site-packages (from pandas) (1.21.5)\n",
      "Requirement already satisfied: six>=1.5 in /opt/anaconda3/lib/python3.9/site-packages (from python-dateutil>=2.8.1->pandas) (1.16.0)\n",
      "Note: you may need to restart the kernel to use updated packages.\n"
     ]
    }
   ],
   "source": [
    "pip install pandas"
   ]
  },
  {
   "cell_type": "code",
   "execution_count": 6,
   "id": "0a502939",
   "metadata": {},
   "outputs": [
    {
     "name": "stdout",
     "output_type": "stream",
     "text": [
      "Requirement already satisfied: numpy in /opt/anaconda3/lib/python3.9/site-packages (1.21.5)\n",
      "Note: you may need to restart the kernel to use updated packages.\n"
     ]
    }
   ],
   "source": [
    "pip install numpy"
   ]
  },
  {
   "cell_type": "code",
   "execution_count": 7,
   "id": "b0a490a3",
   "metadata": {},
   "outputs": [
    {
     "name": "stdout",
     "output_type": "stream",
     "text": [
      "Requirement already satisfied: matplotlib in /opt/anaconda3/lib/python3.9/site-packages (3.5.1)\n",
      "Requirement already satisfied: cycler>=0.10 in /opt/anaconda3/lib/python3.9/site-packages (from matplotlib) (0.11.0)\n",
      "Requirement already satisfied: pillow>=6.2.0 in /opt/anaconda3/lib/python3.9/site-packages (from matplotlib) (9.0.1)\n",
      "Requirement already satisfied: numpy>=1.17 in /opt/anaconda3/lib/python3.9/site-packages (from matplotlib) (1.21.5)\n",
      "Requirement already satisfied: packaging>=20.0 in /opt/anaconda3/lib/python3.9/site-packages (from matplotlib) (21.3)\n",
      "Requirement already satisfied: python-dateutil>=2.7 in /opt/anaconda3/lib/python3.9/site-packages (from matplotlib) (2.8.2)\n",
      "Requirement already satisfied: kiwisolver>=1.0.1 in /opt/anaconda3/lib/python3.9/site-packages (from matplotlib) (1.3.2)\n",
      "Requirement already satisfied: fonttools>=4.22.0 in /opt/anaconda3/lib/python3.9/site-packages (from matplotlib) (4.25.0)\n",
      "Requirement already satisfied: pyparsing>=2.2.1 in /opt/anaconda3/lib/python3.9/site-packages (from matplotlib) (3.0.4)\n",
      "Requirement already satisfied: six>=1.5 in /opt/anaconda3/lib/python3.9/site-packages (from python-dateutil>=2.7->matplotlib) (1.16.0)\n",
      "Note: you may need to restart the kernel to use updated packages.\n"
     ]
    }
   ],
   "source": [
    "pip install matplotlib"
   ]
  },
  {
   "cell_type": "code",
   "execution_count": 24,
   "id": "a6b5aefa",
   "metadata": {},
   "outputs": [
    {
     "name": "stdout",
     "output_type": "stream",
     "text": [
      "Requirement already satisfied: seaborn in /opt/anaconda3/lib/python3.9/site-packages (0.11.2)\n",
      "Requirement already satisfied: matplotlib>=2.2 in /opt/anaconda3/lib/python3.9/site-packages (from seaborn) (3.5.1)\n",
      "Requirement already satisfied: scipy>=1.0 in /opt/anaconda3/lib/python3.9/site-packages (from seaborn) (1.7.3)\n",
      "Requirement already satisfied: pandas>=0.23 in /opt/anaconda3/lib/python3.9/site-packages (from seaborn) (1.4.2)\n",
      "Requirement already satisfied: numpy>=1.15 in /opt/anaconda3/lib/python3.9/site-packages (from seaborn) (1.21.5)\n",
      "Requirement already satisfied: cycler>=0.10 in /opt/anaconda3/lib/python3.9/site-packages (from matplotlib>=2.2->seaborn) (0.11.0)\n",
      "Requirement already satisfied: packaging>=20.0 in /opt/anaconda3/lib/python3.9/site-packages (from matplotlib>=2.2->seaborn) (21.3)\n",
      "Requirement already satisfied: python-dateutil>=2.7 in /opt/anaconda3/lib/python3.9/site-packages (from matplotlib>=2.2->seaborn) (2.8.2)\n",
      "Requirement already satisfied: kiwisolver>=1.0.1 in /opt/anaconda3/lib/python3.9/site-packages (from matplotlib>=2.2->seaborn) (1.3.2)\n",
      "Requirement already satisfied: pillow>=6.2.0 in /opt/anaconda3/lib/python3.9/site-packages (from matplotlib>=2.2->seaborn) (9.0.1)\n",
      "Requirement already satisfied: pyparsing>=2.2.1 in /opt/anaconda3/lib/python3.9/site-packages (from matplotlib>=2.2->seaborn) (3.0.4)\n",
      "Requirement already satisfied: fonttools>=4.22.0 in /opt/anaconda3/lib/python3.9/site-packages (from matplotlib>=2.2->seaborn) (4.25.0)\n",
      "Requirement already satisfied: pytz>=2020.1 in /opt/anaconda3/lib/python3.9/site-packages (from pandas>=0.23->seaborn) (2021.3)\n",
      "Requirement already satisfied: six>=1.5 in /opt/anaconda3/lib/python3.9/site-packages (from python-dateutil>=2.7->matplotlib>=2.2->seaborn) (1.16.0)\n",
      "Note: you may need to restart the kernel to use updated packages.\n"
     ]
    }
   ],
   "source": [
    "pip install seaborn"
   ]
  },
  {
   "cell_type": "code",
   "execution_count": 8,
   "id": "a51b4798",
   "metadata": {},
   "outputs": [],
   "source": [
    "import pandas as pd"
   ]
  },
  {
   "cell_type": "code",
   "execution_count": 9,
   "id": "2f0e12e6",
   "metadata": {},
   "outputs": [],
   "source": [
    "import numpy as np"
   ]
  },
  {
   "cell_type": "code",
   "execution_count": 10,
   "id": "c53042d9",
   "metadata": {},
   "outputs": [],
   "source": [
    "import matplotlib as mpl"
   ]
  },
  {
   "cell_type": "code",
   "execution_count": 30,
   "id": "d1111a94",
   "metadata": {},
   "outputs": [],
   "source": [
    "import matplotlib.pyplot as plt"
   ]
  },
  {
   "cell_type": "code",
   "execution_count": 25,
   "id": "fef4c768",
   "metadata": {},
   "outputs": [],
   "source": [
    "import seaborn as sns"
   ]
  },
  {
   "cell_type": "markdown",
   "id": "e0124be6",
   "metadata": {},
   "source": [
    "Leemos el archivo csv"
   ]
  },
  {
   "cell_type": "code",
   "execution_count": 11,
   "id": "74ba1239",
   "metadata": {},
   "outputs": [],
   "source": [
    "df = pd.read_csv ('Downloads/countries of the world.csv')"
   ]
  },
  {
   "cell_type": "code",
   "execution_count": 13,
   "id": "d6e464e9",
   "metadata": {},
   "outputs": [
    {
     "data": {
      "text/html": [
       "<div>\n",
       "<style scoped>\n",
       "    .dataframe tbody tr th:only-of-type {\n",
       "        vertical-align: middle;\n",
       "    }\n",
       "\n",
       "    .dataframe tbody tr th {\n",
       "        vertical-align: top;\n",
       "    }\n",
       "\n",
       "    .dataframe thead th {\n",
       "        text-align: right;\n",
       "    }\n",
       "</style>\n",
       "<table border=\"1\" class=\"dataframe\">\n",
       "  <thead>\n",
       "    <tr style=\"text-align: right;\">\n",
       "      <th></th>\n",
       "      <th>Country</th>\n",
       "      <th>Region</th>\n",
       "      <th>Population</th>\n",
       "      <th>Area (sq. mi.)</th>\n",
       "      <th>Pop. Density (per sq. mi.)</th>\n",
       "      <th>Coastline (coast/area ratio)</th>\n",
       "      <th>Net migration</th>\n",
       "      <th>Infant mortality (per 1000 births)</th>\n",
       "      <th>GDP ($ per capita)</th>\n",
       "      <th>Literacy (%)</th>\n",
       "      <th>Phones (per 1000)</th>\n",
       "      <th>Arable (%)</th>\n",
       "      <th>Crops (%)</th>\n",
       "      <th>Other (%)</th>\n",
       "      <th>Climate</th>\n",
       "      <th>Birthrate</th>\n",
       "      <th>Deathrate</th>\n",
       "      <th>Agriculture</th>\n",
       "      <th>Industry</th>\n",
       "      <th>Service</th>\n",
       "    </tr>\n",
       "  </thead>\n",
       "  <tbody>\n",
       "    <tr>\n",
       "      <th>0</th>\n",
       "      <td>Afghanistan</td>\n",
       "      <td>ASIA (EX. NEAR EAST)</td>\n",
       "      <td>31056997</td>\n",
       "      <td>647500</td>\n",
       "      <td>48.0</td>\n",
       "      <td>0.00</td>\n",
       "      <td>23.06</td>\n",
       "      <td>163.07</td>\n",
       "      <td>700</td>\n",
       "      <td>36.0</td>\n",
       "      <td>3.2</td>\n",
       "      <td>12.13</td>\n",
       "      <td>0.22</td>\n",
       "      <td>87.65</td>\n",
       "      <td>1.0</td>\n",
       "      <td>46.60</td>\n",
       "      <td>20.34</td>\n",
       "      <td>0.38</td>\n",
       "      <td>0.24</td>\n",
       "      <td>0.38</td>\n",
       "    </tr>\n",
       "    <tr>\n",
       "      <th>1</th>\n",
       "      <td>Albania</td>\n",
       "      <td>EASTERN EUROPE</td>\n",
       "      <td>3581655</td>\n",
       "      <td>28748</td>\n",
       "      <td>124.6</td>\n",
       "      <td>1.26</td>\n",
       "      <td>-4.93</td>\n",
       "      <td>21.52</td>\n",
       "      <td>4500</td>\n",
       "      <td>86.5</td>\n",
       "      <td>71.2</td>\n",
       "      <td>21.09</td>\n",
       "      <td>4.42</td>\n",
       "      <td>74.49</td>\n",
       "      <td>3.0</td>\n",
       "      <td>15.11</td>\n",
       "      <td>5.22</td>\n",
       "      <td>0.23</td>\n",
       "      <td>0.19</td>\n",
       "      <td>0.58</td>\n",
       "    </tr>\n",
       "    <tr>\n",
       "      <th>2</th>\n",
       "      <td>Algeria</td>\n",
       "      <td>NORTHERN AFRICA</td>\n",
       "      <td>32930091</td>\n",
       "      <td>2381740</td>\n",
       "      <td>13.8</td>\n",
       "      <td>0.04</td>\n",
       "      <td>-0.39</td>\n",
       "      <td>31.00</td>\n",
       "      <td>6000</td>\n",
       "      <td>70.0</td>\n",
       "      <td>78.1</td>\n",
       "      <td>3.22</td>\n",
       "      <td>0.25</td>\n",
       "      <td>96.53</td>\n",
       "      <td>1.0</td>\n",
       "      <td>17.14</td>\n",
       "      <td>4.61</td>\n",
       "      <td>0.10</td>\n",
       "      <td>0.60</td>\n",
       "      <td>0.30</td>\n",
       "    </tr>\n",
       "    <tr>\n",
       "      <th>3</th>\n",
       "      <td>American Samoa</td>\n",
       "      <td>OCEANIA</td>\n",
       "      <td>57794</td>\n",
       "      <td>199</td>\n",
       "      <td>290.4</td>\n",
       "      <td>58.29</td>\n",
       "      <td>-20.71</td>\n",
       "      <td>9.27</td>\n",
       "      <td>8000</td>\n",
       "      <td>97.0</td>\n",
       "      <td>259.5</td>\n",
       "      <td>10.00</td>\n",
       "      <td>15.00</td>\n",
       "      <td>75.00</td>\n",
       "      <td>2.0</td>\n",
       "      <td>22.46</td>\n",
       "      <td>3.27</td>\n",
       "      <td>0.00</td>\n",
       "      <td>0.00</td>\n",
       "      <td>0.00</td>\n",
       "    </tr>\n",
       "    <tr>\n",
       "      <th>4</th>\n",
       "      <td>Andorra</td>\n",
       "      <td>WESTERN EUROPE</td>\n",
       "      <td>71201</td>\n",
       "      <td>468</td>\n",
       "      <td>152.1</td>\n",
       "      <td>0.00</td>\n",
       "      <td>6.60</td>\n",
       "      <td>4.05</td>\n",
       "      <td>19000</td>\n",
       "      <td>100.0</td>\n",
       "      <td>497.2</td>\n",
       "      <td>2.22</td>\n",
       "      <td>0.00</td>\n",
       "      <td>97.78</td>\n",
       "      <td>3.0</td>\n",
       "      <td>8.71</td>\n",
       "      <td>6.25</td>\n",
       "      <td>0.00</td>\n",
       "      <td>0.00</td>\n",
       "      <td>0.00</td>\n",
       "    </tr>\n",
       "  </tbody>\n",
       "</table>\n",
       "</div>"
      ],
      "text/plain": [
       "           Country                               Region  Population  \\\n",
       "0     Afghanistan         ASIA (EX. NEAR EAST)             31056997   \n",
       "1         Albania   EASTERN EUROPE                          3581655   \n",
       "2         Algeria   NORTHERN AFRICA                        32930091   \n",
       "3  American Samoa   OCEANIA                                   57794   \n",
       "4         Andorra   WESTERN EUROPE                            71201   \n",
       "\n",
       "   Area (sq. mi.)  Pop. Density (per sq. mi.)  Coastline (coast/area ratio)  \\\n",
       "0          647500                        48.0                          0.00   \n",
       "1           28748                       124.6                          1.26   \n",
       "2         2381740                        13.8                          0.04   \n",
       "3             199                       290.4                         58.29   \n",
       "4             468                       152.1                          0.00   \n",
       "\n",
       "   Net migration  Infant mortality (per 1000 births)  GDP ($ per capita)  \\\n",
       "0          23.06                              163.07                 700   \n",
       "1          -4.93                               21.52                4500   \n",
       "2          -0.39                               31.00                6000   \n",
       "3         -20.71                                9.27                8000   \n",
       "4           6.60                                4.05               19000   \n",
       "\n",
       "   Literacy (%)  Phones (per 1000)  Arable (%)  Crops (%)  Other (%)  Climate  \\\n",
       "0          36.0                3.2       12.13       0.22      87.65      1.0   \n",
       "1          86.5               71.2       21.09       4.42      74.49      3.0   \n",
       "2          70.0               78.1        3.22       0.25      96.53      1.0   \n",
       "3          97.0              259.5       10.00      15.00      75.00      2.0   \n",
       "4         100.0              497.2        2.22       0.00      97.78      3.0   \n",
       "\n",
       "   Birthrate  Deathrate  Agriculture  Industry  Service  \n",
       "0      46.60      20.34         0.38      0.24     0.38  \n",
       "1      15.11       5.22         0.23      0.19     0.58  \n",
       "2      17.14       4.61         0.10      0.60     0.30  \n",
       "3      22.46       3.27         0.00      0.00     0.00  \n",
       "4       8.71       6.25         0.00      0.00     0.00  "
      ]
     },
     "execution_count": 13,
     "metadata": {},
     "output_type": "execute_result"
    }
   ],
   "source": [
    "df.head(5)"
   ]
  },
  {
   "cell_type": "markdown",
   "id": "0ac6e7d8",
   "metadata": {},
   "source": [
    "Obtenemos el tamaño del dataset el filas y columnas"
   ]
  },
  {
   "cell_type": "code",
   "execution_count": 17,
   "id": "e5e6699d",
   "metadata": {},
   "outputs": [
    {
     "data": {
      "text/plain": [
       "(227, 20)"
      ]
     },
     "execution_count": 17,
     "metadata": {},
     "output_type": "execute_result"
    }
   ],
   "source": [
    "df.shape"
   ]
  },
  {
   "cell_type": "markdown",
   "id": "7092e1ef",
   "metadata": {},
   "source": [
    "Generamos la descripcion del data set "
   ]
  },
  {
   "cell_type": "code",
   "execution_count": 14,
   "id": "4536135c",
   "metadata": {},
   "outputs": [
    {
     "data": {
      "text/html": [
       "<div>\n",
       "<style scoped>\n",
       "    .dataframe tbody tr th:only-of-type {\n",
       "        vertical-align: middle;\n",
       "    }\n",
       "\n",
       "    .dataframe tbody tr th {\n",
       "        vertical-align: top;\n",
       "    }\n",
       "\n",
       "    .dataframe thead th {\n",
       "        text-align: right;\n",
       "    }\n",
       "</style>\n",
       "<table border=\"1\" class=\"dataframe\">\n",
       "  <thead>\n",
       "    <tr style=\"text-align: right;\">\n",
       "      <th></th>\n",
       "      <th>Population</th>\n",
       "      <th>Area (sq. mi.)</th>\n",
       "      <th>Pop. Density (per sq. mi.)</th>\n",
       "      <th>Coastline (coast/area ratio)</th>\n",
       "      <th>Net migration</th>\n",
       "      <th>Infant mortality (per 1000 births)</th>\n",
       "      <th>GDP ($ per capita)</th>\n",
       "      <th>Literacy (%)</th>\n",
       "      <th>Phones (per 1000)</th>\n",
       "      <th>Arable (%)</th>\n",
       "      <th>Crops (%)</th>\n",
       "      <th>Other (%)</th>\n",
       "      <th>Climate</th>\n",
       "      <th>Birthrate</th>\n",
       "      <th>Deathrate</th>\n",
       "      <th>Agriculture</th>\n",
       "      <th>Industry</th>\n",
       "      <th>Service</th>\n",
       "    </tr>\n",
       "  </thead>\n",
       "  <tbody>\n",
       "    <tr>\n",
       "      <th>count</th>\n",
       "      <td>2.270000e+02</td>\n",
       "      <td>2.270000e+02</td>\n",
       "      <td>227.000000</td>\n",
       "      <td>227.000000</td>\n",
       "      <td>227.000000</td>\n",
       "      <td>227.000000</td>\n",
       "      <td>227.000000</td>\n",
       "      <td>227.000000</td>\n",
       "      <td>227.000000</td>\n",
       "      <td>227.000000</td>\n",
       "      <td>227.000000</td>\n",
       "      <td>227.000000</td>\n",
       "      <td>227.000000</td>\n",
       "      <td>227.000000</td>\n",
       "      <td>227.000000</td>\n",
       "      <td>227.000000</td>\n",
       "      <td>227.000000</td>\n",
       "      <td>227.000000</td>\n",
       "    </tr>\n",
       "    <tr>\n",
       "      <th>mean</th>\n",
       "      <td>2.874028e+07</td>\n",
       "      <td>5.982270e+05</td>\n",
       "      <td>379.047137</td>\n",
       "      <td>21.165330</td>\n",
       "      <td>0.037621</td>\n",
       "      <td>35.037709</td>\n",
       "      <td>9647.136564</td>\n",
       "      <td>76.269604</td>\n",
       "      <td>231.901762</td>\n",
       "      <td>13.675551</td>\n",
       "      <td>4.524009</td>\n",
       "      <td>80.919031</td>\n",
       "      <td>1.931718</td>\n",
       "      <td>21.822467</td>\n",
       "      <td>9.078502</td>\n",
       "      <td>0.141278</td>\n",
       "      <td>0.262996</td>\n",
       "      <td>0.528326</td>\n",
       "    </tr>\n",
       "    <tr>\n",
       "      <th>std</th>\n",
       "      <td>1.178913e+08</td>\n",
       "      <td>1.790282e+06</td>\n",
       "      <td>1660.185825</td>\n",
       "      <td>72.286863</td>\n",
       "      <td>4.856712</td>\n",
       "      <td>35.388330</td>\n",
       "      <td>10047.485847</td>\n",
       "      <td>29.346066</td>\n",
       "      <td>228.099042</td>\n",
       "      <td>13.046722</td>\n",
       "      <td>8.335358</td>\n",
       "      <td>17.795561</td>\n",
       "      <td>0.918569</td>\n",
       "      <td>11.387139</td>\n",
       "      <td>5.093580</td>\n",
       "      <td>0.146833</td>\n",
       "      <td>0.151911</td>\n",
       "      <td>0.213427</td>\n",
       "    </tr>\n",
       "    <tr>\n",
       "      <th>min</th>\n",
       "      <td>7.026000e+03</td>\n",
       "      <td>2.000000e+00</td>\n",
       "      <td>0.000000</td>\n",
       "      <td>0.000000</td>\n",
       "      <td>-20.990000</td>\n",
       "      <td>0.000000</td>\n",
       "      <td>0.000000</td>\n",
       "      <td>0.000000</td>\n",
       "      <td>0.000000</td>\n",
       "      <td>0.000000</td>\n",
       "      <td>0.000000</td>\n",
       "      <td>0.000000</td>\n",
       "      <td>0.000000</td>\n",
       "      <td>0.000000</td>\n",
       "      <td>0.000000</td>\n",
       "      <td>0.000000</td>\n",
       "      <td>0.000000</td>\n",
       "      <td>0.000000</td>\n",
       "    </tr>\n",
       "    <tr>\n",
       "      <th>25%</th>\n",
       "      <td>4.376240e+05</td>\n",
       "      <td>4.647500e+03</td>\n",
       "      <td>29.150000</td>\n",
       "      <td>0.100000</td>\n",
       "      <td>-0.905000</td>\n",
       "      <td>7.825000</td>\n",
       "      <td>1900.000000</td>\n",
       "      <td>62.950000</td>\n",
       "      <td>33.050000</td>\n",
       "      <td>3.095000</td>\n",
       "      <td>0.190000</td>\n",
       "      <td>70.875000</td>\n",
       "      <td>1.500000</td>\n",
       "      <td>12.350000</td>\n",
       "      <td>5.755000</td>\n",
       "      <td>0.030000</td>\n",
       "      <td>0.170000</td>\n",
       "      <td>0.405000</td>\n",
       "    </tr>\n",
       "    <tr>\n",
       "      <th>50%</th>\n",
       "      <td>4.786994e+06</td>\n",
       "      <td>8.660000e+04</td>\n",
       "      <td>78.800000</td>\n",
       "      <td>0.730000</td>\n",
       "      <td>0.000000</td>\n",
       "      <td>20.910000</td>\n",
       "      <td>5500.000000</td>\n",
       "      <td>90.300000</td>\n",
       "      <td>164.100000</td>\n",
       "      <td>10.380000</td>\n",
       "      <td>1.010000</td>\n",
       "      <td>85.380000</td>\n",
       "      <td>2.000000</td>\n",
       "      <td>18.710000</td>\n",
       "      <td>7.820000</td>\n",
       "      <td>0.090000</td>\n",
       "      <td>0.260000</td>\n",
       "      <td>0.560000</td>\n",
       "    </tr>\n",
       "    <tr>\n",
       "      <th>75%</th>\n",
       "      <td>1.749777e+07</td>\n",
       "      <td>4.418110e+05</td>\n",
       "      <td>190.150000</td>\n",
       "      <td>10.345000</td>\n",
       "      <td>0.980000</td>\n",
       "      <td>55.335000</td>\n",
       "      <td>15700.000000</td>\n",
       "      <td>97.800000</td>\n",
       "      <td>382.900000</td>\n",
       "      <td>20.000000</td>\n",
       "      <td>4.435000</td>\n",
       "      <td>95.230000</td>\n",
       "      <td>2.250000</td>\n",
       "      <td>29.770000</td>\n",
       "      <td>10.580000</td>\n",
       "      <td>0.210000</td>\n",
       "      <td>0.335000</td>\n",
       "      <td>0.670000</td>\n",
       "    </tr>\n",
       "    <tr>\n",
       "      <th>max</th>\n",
       "      <td>1.313974e+09</td>\n",
       "      <td>1.707520e+07</td>\n",
       "      <td>16271.500000</td>\n",
       "      <td>870.660000</td>\n",
       "      <td>23.060000</td>\n",
       "      <td>191.190000</td>\n",
       "      <td>55100.000000</td>\n",
       "      <td>100.000000</td>\n",
       "      <td>1035.600000</td>\n",
       "      <td>62.110000</td>\n",
       "      <td>50.680000</td>\n",
       "      <td>100.000000</td>\n",
       "      <td>4.000000</td>\n",
       "      <td>50.730000</td>\n",
       "      <td>29.740000</td>\n",
       "      <td>0.770000</td>\n",
       "      <td>0.910000</td>\n",
       "      <td>0.950000</td>\n",
       "    </tr>\n",
       "  </tbody>\n",
       "</table>\n",
       "</div>"
      ],
      "text/plain": [
       "         Population  Area (sq. mi.)  Pop. Density (per sq. mi.)  \\\n",
       "count  2.270000e+02    2.270000e+02                  227.000000   \n",
       "mean   2.874028e+07    5.982270e+05                  379.047137   \n",
       "std    1.178913e+08    1.790282e+06                 1660.185825   \n",
       "min    7.026000e+03    2.000000e+00                    0.000000   \n",
       "25%    4.376240e+05    4.647500e+03                   29.150000   \n",
       "50%    4.786994e+06    8.660000e+04                   78.800000   \n",
       "75%    1.749777e+07    4.418110e+05                  190.150000   \n",
       "max    1.313974e+09    1.707520e+07                16271.500000   \n",
       "\n",
       "       Coastline (coast/area ratio)  Net migration  \\\n",
       "count                    227.000000     227.000000   \n",
       "mean                      21.165330       0.037621   \n",
       "std                       72.286863       4.856712   \n",
       "min                        0.000000     -20.990000   \n",
       "25%                        0.100000      -0.905000   \n",
       "50%                        0.730000       0.000000   \n",
       "75%                       10.345000       0.980000   \n",
       "max                      870.660000      23.060000   \n",
       "\n",
       "       Infant mortality (per 1000 births)  GDP ($ per capita)  Literacy (%)  \\\n",
       "count                          227.000000          227.000000    227.000000   \n",
       "mean                            35.037709         9647.136564     76.269604   \n",
       "std                             35.388330        10047.485847     29.346066   \n",
       "min                              0.000000            0.000000      0.000000   \n",
       "25%                              7.825000         1900.000000     62.950000   \n",
       "50%                             20.910000         5500.000000     90.300000   \n",
       "75%                             55.335000        15700.000000     97.800000   \n",
       "max                            191.190000        55100.000000    100.000000   \n",
       "\n",
       "       Phones (per 1000)  Arable (%)   Crops (%)   Other (%)     Climate  \\\n",
       "count         227.000000  227.000000  227.000000  227.000000  227.000000   \n",
       "mean          231.901762   13.675551    4.524009   80.919031    1.931718   \n",
       "std           228.099042   13.046722    8.335358   17.795561    0.918569   \n",
       "min             0.000000    0.000000    0.000000    0.000000    0.000000   \n",
       "25%            33.050000    3.095000    0.190000   70.875000    1.500000   \n",
       "50%           164.100000   10.380000    1.010000   85.380000    2.000000   \n",
       "75%           382.900000   20.000000    4.435000   95.230000    2.250000   \n",
       "max          1035.600000   62.110000   50.680000  100.000000    4.000000   \n",
       "\n",
       "        Birthrate   Deathrate  Agriculture    Industry     Service  \n",
       "count  227.000000  227.000000   227.000000  227.000000  227.000000  \n",
       "mean    21.822467    9.078502     0.141278    0.262996    0.528326  \n",
       "std     11.387139    5.093580     0.146833    0.151911    0.213427  \n",
       "min      0.000000    0.000000     0.000000    0.000000    0.000000  \n",
       "25%     12.350000    5.755000     0.030000    0.170000    0.405000  \n",
       "50%     18.710000    7.820000     0.090000    0.260000    0.560000  \n",
       "75%     29.770000   10.580000     0.210000    0.335000    0.670000  \n",
       "max     50.730000   29.740000     0.770000    0.910000    0.950000  "
      ]
     },
     "execution_count": 14,
     "metadata": {},
     "output_type": "execute_result"
    }
   ],
   "source": [
    "df.describe()"
   ]
  },
  {
   "cell_type": "markdown",
   "id": "99830731",
   "metadata": {},
   "source": [
    "Observamos las columnas y el tipo de datos de cada una de ellas"
   ]
  },
  {
   "cell_type": "code",
   "execution_count": 15,
   "id": "7df08c9f",
   "metadata": {},
   "outputs": [
    {
     "data": {
      "text/plain": [
       "Index(['Country', 'Region', 'Population', 'Area (sq. mi.)',\n",
       "       'Pop. Density (per sq. mi.)', 'Coastline (coast/area ratio)',\n",
       "       'Net migration', 'Infant mortality (per 1000 births)',\n",
       "       'GDP ($ per capita)', 'Literacy (%)', 'Phones (per 1000)', 'Arable (%)',\n",
       "       'Crops (%)', 'Other (%)', 'Climate', 'Birthrate', 'Deathrate',\n",
       "       'Agriculture', 'Industry', 'Service'],\n",
       "      dtype='object')"
      ]
     },
     "execution_count": 15,
     "metadata": {},
     "output_type": "execute_result"
    }
   ],
   "source": [
    "df.columns"
   ]
  },
  {
   "cell_type": "code",
   "execution_count": 16,
   "id": "511b49e6",
   "metadata": {
    "scrolled": true
   },
   "outputs": [
    {
     "data": {
      "text/plain": [
       "Country                                object\n",
       "Region                                 object\n",
       "Population                              int64\n",
       "Area (sq. mi.)                          int64\n",
       "Pop. Density (per sq. mi.)            float64\n",
       "Coastline (coast/area ratio)          float64\n",
       "Net migration                         float64\n",
       "Infant mortality (per 1000 births)    float64\n",
       "GDP ($ per capita)                      int64\n",
       "Literacy (%)                          float64\n",
       "Phones (per 1000)                     float64\n",
       "Arable (%)                            float64\n",
       "Crops (%)                             float64\n",
       "Other (%)                             float64\n",
       "Climate                               float64\n",
       "Birthrate                             float64\n",
       "Deathrate                             float64\n",
       "Agriculture                           float64\n",
       "Industry                              float64\n",
       "Service                               float64\n",
       "dtype: object"
      ]
     },
     "execution_count": 16,
     "metadata": {},
     "output_type": "execute_result"
    }
   ],
   "source": [
    "df.dtypes"
   ]
  },
  {
   "cell_type": "markdown",
   "id": "fce1fa92",
   "metadata": {},
   "source": [
    "### 2. Datos interesantes sobre el dataset "
   ]
  },
  {
   "cell_type": "code",
   "execution_count": 19,
   "id": "705fb97d",
   "metadata": {},
   "outputs": [
    {
     "data": {
      "text/plain": [
       "Index(['Country', 'Region', 'Population', 'Area (sq. mi.)',\n",
       "       'Pop. Density (per sq. mi.)', 'Coastline (coast/area ratio)',\n",
       "       'Net migration', 'Infant mortality (per 1000 births)',\n",
       "       'GDP ($ per capita)', 'Literacy (%)', 'Phones (per 1000)', 'Arable (%)',\n",
       "       'Crops (%)', 'Other (%)', 'Climate', 'Birthrate', 'Deathrate',\n",
       "       'Agriculture', 'Industry', 'Service'],\n",
       "      dtype='object')"
      ]
     },
     "execution_count": 19,
     "metadata": {},
     "output_type": "execute_result"
    }
   ],
   "source": [
    "df.columns"
   ]
  },
  {
   "cell_type": "code",
   "execution_count": 32,
   "id": "e69f95d9",
   "metadata": {},
   "outputs": [
    {
     "data": {
      "text/plain": [
       "Text(0, 0.5, 'Tasa Mortandad')"
      ]
     },
     "execution_count": 32,
     "metadata": {},
     "output_type": "execute_result"
    },
    {
     "data": {
      "image/png": "[encoded data removed]",
      "text/plain": [
       "<Figure size 432x288 with 1 Axes>"
      ]
     },
     "metadata": {
      "needs_background": "light"
     },
     "output_type": "display_data"
    }
   ],
   "source": [
    "fig, ax = plt.subplots(1,1,figsize=(6,4))\n",
    "ax.scatter(x=df.Birthrate, y=df.Deathrate, alpha = 0.8)\n",
    "ax.set_xlabel ('Tasa Nacimiento')\n",
    "ax.set_ylabel ('Tasa Mortandad')\n"
   ]
  },
  {
   "cell_type": "markdown",
   "id": "59fdb331",
   "metadata": {},
   "source": [
    "La correlacion muestra que se concentra mas en los intervalos de 10 a 20 en natalidad y de 5 a 10 en mortalidad."
   ]
  },
  {
   "cell_type": "code",
   "execution_count": null,
   "id": "55a0aa94",
   "metadata": {},
   "outputs": [],
   "source": []
  },
  {
   "cell_type": "markdown",
   "id": "3bc25761",
   "metadata": {},
   "source": [
    "Tambien podemos tratar de identificar la mayor poblacion y la menor poblacion, y tambien identificar valores estadisticos."
   ]
  },
  {
   "cell_type": "code",
   "execution_count": 68,
   "id": "b4bad7c5",
   "metadata": {},
   "outputs": [
    {
     "data": {
      "text/plain": [
       "1313973713"
      ]
     },
     "execution_count": 68,
     "metadata": {},
     "output_type": "execute_result"
    }
   ],
   "source": [
    "df['Population'].max()"
   ]
  },
  {
   "cell_type": "code",
   "execution_count": 69,
   "id": "97c19594",
   "metadata": {},
   "outputs": [
    {
     "data": {
      "text/plain": [
       "7026"
      ]
     },
     "execution_count": 69,
     "metadata": {},
     "output_type": "execute_result"
    }
   ],
   "source": [
    "df['Population'].min()"
   ]
  },
  {
   "cell_type": "markdown",
   "id": "2ae5f35b",
   "metadata": {},
   "source": [
    "Ahora,  podemos tambien establecer cual pais es el que tiene esas poblaciones"
   ]
  },
  {
   "cell_type": "code",
   "execution_count": 77,
   "id": "cdea43b0",
   "metadata": {},
   "outputs": [],
   "source": [
    "pais_df = pd.pivot_table (df,\n",
    "                         values = 'Population',\n",
    "                         index = 'Country',\n",
    "                         aggfunc = 'sum',\n",
    "                         )\n",
    "pais_df_order = pais_df.sort_values('Population')"
   ]
  },
  {
   "cell_type": "markdown",
   "id": "fcb53261",
   "metadata": {},
   "source": [
    "Como podemos Observar, China tiene la mayor poblacion y la isla de St Pierre la de menor numero de habitantes."
   ]
  },
  {
   "cell_type": "code",
   "execution_count": 78,
   "id": "75522d86",
   "metadata": {},
   "outputs": [
    {
     "data": {
      "text/plain": [
       "{'whiskers': [<matplotlib.lines.Line2D at 0x7fa3d5449370>,\n",
       "  <matplotlib.lines.Line2D at 0x7fa3d5449670>],\n",
       " 'caps': [<matplotlib.lines.Line2D at 0x7fa3d5449940>,\n",
       "  <matplotlib.lines.Line2D at 0x7fa3d5449bb0>],\n",
       " 'boxes': [<matplotlib.lines.Line2D at 0x7fa3d5430fa0>],\n",
       " 'medians': [<matplotlib.lines.Line2D at 0x7fa3d5449cd0>],\n",
       " 'fliers': [<matplotlib.lines.Line2D at 0x7fa3d5449fa0>],\n",
       " 'means': []}"
      ]
     },
     "execution_count": 78,
     "metadata": {},
     "output_type": "execute_result"
    },
    {
     "data": {
      "image/png": "[encoded data removed]",
      "text/plain": [
       "<Figure size 720x504 with 1 Axes>"
      ]
     },
     "metadata": {
      "needs_background": "light"
     },
     "output_type": "display_data"
    }
   ],
   "source": [
    "fig = plt.figure(figsize = (10,7))\n",
    "plt.boxplot (df['Population'])"
   ]
  },
  {
   "cell_type": "markdown",
   "id": "800ec0c5",
   "metadata": {},
   "source": [
    "### 3. Visualizaciones"
   ]
  },
  {
   "cell_type": "markdown",
   "id": "d1c3ed75",
   "metadata": {},
   "source": [
    "Podemos intentar graficarlo"
   ]
  },
  {
   "cell_type": "code",
   "execution_count": 88,
   "id": "0dbe9975",
   "metadata": {},
   "outputs": [
    {
     "data": {
      "text/plain": [
       "<AxesSubplot:ylabel='Country'>"
      ]
     },
     "execution_count": 88,
     "metadata": {},
     "output_type": "execute_result"
    },
    {
     "data": {
      "image/png": "[encoded data removed]",
      "text/plain": [
       "<Figure size 432x288 with 1 Axes>"
      ]
     },
     "metadata": {
      "needs_background": "light"
     },
     "output_type": "display_data"
    }
   ],
   "source": [
    "pais_df.plot(kind = 'barh')"
   ]
  },
  {
   "cell_type": "code",
   "execution_count": 90,
   "id": "34b8450a",
   "metadata": {},
   "outputs": [],
   "source": [
    "pais_df_order_min = pais_df_order.head(10)\n",
    "pais_df_order_max = pais_df_order.tail(10)"
   ]
  },
  {
   "cell_type": "code",
   "execution_count": 98,
   "id": "6514cf69",
   "metadata": {},
   "outputs": [
    {
     "data": {
      "text/plain": [
       "<AxesSubplot:xlabel='Country'>"
      ]
     },
     "execution_count": 98,
     "metadata": {},
     "output_type": "execute_result"
    },
    {
     "data": {
      "image/png": "[encoded data removed]",
      "text/plain": [
       "<Figure size 432x288 with 1 Axes>"
      ]
     },
     "metadata": {
      "needs_background": "light"
     },
     "output_type": "display_data"
    },
    {
     "data": {
      "image/png": "[encoded data removed]",
      "text/plain": [
       "<Figure size 432x288 with 1 Axes>"
      ]
     },
     "metadata": {
      "needs_background": "light"
     },
     "output_type": "display_data"
    }
   ],
   "source": [
    "pais_df_order_min.plot(kind = 'barh')\n",
    "pais_df_order_max.plot (kind = 'bar')"
   ]
  },
  {
   "cell_type": "markdown",
   "id": "80d36778",
   "metadata": {},
   "source": [
    "Pero mejor, los agrupamos por region para tener una mejor visibilidad"
   ]
  },
  {
   "cell_type": "code",
   "execution_count": 99,
   "id": "12a7c718",
   "metadata": {},
   "outputs": [
    {
     "data": {
      "text/html": [
       "<div>\n",
       "<style scoped>\n",
       "    .dataframe tbody tr th:only-of-type {\n",
       "        vertical-align: middle;\n",
       "    }\n",
       "\n",
       "    .dataframe tbody tr th {\n",
       "        vertical-align: top;\n",
       "    }\n",
       "\n",
       "    .dataframe thead th {\n",
       "        text-align: right;\n",
       "    }\n",
       "</style>\n",
       "<table border=\"1\" class=\"dataframe\">\n",
       "  <thead>\n",
       "    <tr style=\"text-align: right;\">\n",
       "      <th></th>\n",
       "      <th>Population</th>\n",
       "    </tr>\n",
       "    <tr>\n",
       "      <th>Region</th>\n",
       "      <th></th>\n",
       "    </tr>\n",
       "  </thead>\n",
       "  <tbody>\n",
       "    <tr>\n",
       "      <th>ASIA (EX. NEAR EAST)</th>\n",
       "      <td>3687982236</td>\n",
       "    </tr>\n",
       "    <tr>\n",
       "      <th>BALTICS</th>\n",
       "      <td>7184974</td>\n",
       "    </tr>\n",
       "    <tr>\n",
       "      <th>C.W. OF IND. STATES</th>\n",
       "      <td>280081548</td>\n",
       "    </tr>\n",
       "    <tr>\n",
       "      <th>EASTERN EUROPE</th>\n",
       "      <td>119914717</td>\n",
       "    </tr>\n",
       "    <tr>\n",
       "      <th>LATIN AMER. &amp; CARIB</th>\n",
       "      <td>561824599</td>\n",
       "    </tr>\n",
       "    <tr>\n",
       "      <th>NEAR EAST</th>\n",
       "      <td>195068377</td>\n",
       "    </tr>\n",
       "    <tr>\n",
       "      <th>NORTHERN AFRICA</th>\n",
       "      <td>161407133</td>\n",
       "    </tr>\n",
       "    <tr>\n",
       "      <th>NORTHERN AMERICA</th>\n",
       "      <td>331672307</td>\n",
       "    </tr>\n",
       "    <tr>\n",
       "      <th>OCEANIA</th>\n",
       "      <td>33131662</td>\n",
       "    </tr>\n",
       "    <tr>\n",
       "      <th>SUB-SAHARAN AFRICA</th>\n",
       "      <td>749437000</td>\n",
       "    </tr>\n",
       "    <tr>\n",
       "      <th>WESTERN EUROPE</th>\n",
       "      <td>396339998</td>\n",
       "    </tr>\n",
       "  </tbody>\n",
       "</table>\n",
       "</div>"
      ],
      "text/plain": [
       "                                     Population\n",
       "Region                                         \n",
       "ASIA (EX. NEAR EAST)                 3687982236\n",
       "BALTICS                                 7184974\n",
       "C.W. OF IND. STATES                   280081548\n",
       "EASTERN EUROPE                        119914717\n",
       "LATIN AMER. & CARIB                   561824599\n",
       "NEAR EAST                             195068377\n",
       "NORTHERN AFRICA                       161407133\n",
       "NORTHERN AMERICA                      331672307\n",
       "OCEANIA                                33131662\n",
       "SUB-SAHARAN AFRICA                    749437000\n",
       "WESTERN EUROPE                        396339998"
      ]
     },
     "execution_count": 99,
     "metadata": {},
     "output_type": "execute_result"
    }
   ],
   "source": [
    "population_df = pd.pivot_table (df,\n",
    "                               values='Population',\n",
    "                               index = 'Region',\n",
    "                               aggfunc = 'sum')\n",
    "population_df"
   ]
  },
  {
   "cell_type": "code",
   "execution_count": 100,
   "id": "24579b90",
   "metadata": {},
   "outputs": [
    {
     "data": {
      "text/html": [
       "<div>\n",
       "<style scoped>\n",
       "    .dataframe tbody tr th:only-of-type {\n",
       "        vertical-align: middle;\n",
       "    }\n",
       "\n",
       "    .dataframe tbody tr th {\n",
       "        vertical-align: top;\n",
       "    }\n",
       "\n",
       "    .dataframe thead th {\n",
       "        text-align: right;\n",
       "    }\n",
       "</style>\n",
       "<table border=\"1\" class=\"dataframe\">\n",
       "  <thead>\n",
       "    <tr style=\"text-align: right;\">\n",
       "      <th></th>\n",
       "      <th>Population</th>\n",
       "    </tr>\n",
       "    <tr>\n",
       "      <th>Region</th>\n",
       "      <th></th>\n",
       "    </tr>\n",
       "  </thead>\n",
       "  <tbody>\n",
       "    <tr>\n",
       "      <th>BALTICS</th>\n",
       "      <td>7184974</td>\n",
       "    </tr>\n",
       "    <tr>\n",
       "      <th>OCEANIA</th>\n",
       "      <td>33131662</td>\n",
       "    </tr>\n",
       "    <tr>\n",
       "      <th>EASTERN EUROPE</th>\n",
       "      <td>119914717</td>\n",
       "    </tr>\n",
       "    <tr>\n",
       "      <th>NORTHERN AFRICA</th>\n",
       "      <td>161407133</td>\n",
       "    </tr>\n",
       "    <tr>\n",
       "      <th>NEAR EAST</th>\n",
       "      <td>195068377</td>\n",
       "    </tr>\n",
       "    <tr>\n",
       "      <th>C.W. OF IND. STATES</th>\n",
       "      <td>280081548</td>\n",
       "    </tr>\n",
       "    <tr>\n",
       "      <th>NORTHERN AMERICA</th>\n",
       "      <td>331672307</td>\n",
       "    </tr>\n",
       "    <tr>\n",
       "      <th>WESTERN EUROPE</th>\n",
       "      <td>396339998</td>\n",
       "    </tr>\n",
       "    <tr>\n",
       "      <th>LATIN AMER. &amp; CARIB</th>\n",
       "      <td>561824599</td>\n",
       "    </tr>\n",
       "    <tr>\n",
       "      <th>SUB-SAHARAN AFRICA</th>\n",
       "      <td>749437000</td>\n",
       "    </tr>\n",
       "    <tr>\n",
       "      <th>ASIA (EX. NEAR EAST)</th>\n",
       "      <td>3687982236</td>\n",
       "    </tr>\n",
       "  </tbody>\n",
       "</table>\n",
       "</div>"
      ],
      "text/plain": [
       "                                     Population\n",
       "Region                                         \n",
       "BALTICS                                 7184974\n",
       "OCEANIA                                33131662\n",
       "EASTERN EUROPE                        119914717\n",
       "NORTHERN AFRICA                       161407133\n",
       "NEAR EAST                             195068377\n",
       "C.W. OF IND. STATES                   280081548\n",
       "NORTHERN AMERICA                      331672307\n",
       "WESTERN EUROPE                        396339998\n",
       "LATIN AMER. & CARIB                   561824599\n",
       "SUB-SAHARAN AFRICA                    749437000\n",
       "ASIA (EX. NEAR EAST)                 3687982236"
      ]
     },
     "execution_count": 100,
     "metadata": {},
     "output_type": "execute_result"
    }
   ],
   "source": [
    "population_df.sort_values('Population')\n"
   ]
  },
  {
   "cell_type": "code",
   "execution_count": 111,
   "id": "ef276fd1",
   "metadata": {},
   "outputs": [
    {
     "data": {
      "text/plain": [
       "array([<AxesSubplot:ylabel='Population'>], dtype=object)"
      ]
     },
     "execution_count": 111,
     "metadata": {},
     "output_type": "execute_result"
    },
    {
     "data": {
      "image/png": "[encoded data removed]",
      "text/plain": [
       "<Figure size 720x504 with 1 Axes>"
      ]
     },
     "metadata": {},
     "output_type": "display_data"
    }
   ],
   "source": [
    "population_df.plot (kind = 'pie',\n",
    "                    figsize = (10,7), \n",
    "                    subplots = True,\n",
    "                   labeldistance = 1.1\n",
    "                   , title = 'Grafica por Region')"
   ]
  },
  {
   "cell_type": "markdown",
   "id": "d0f4cf9d",
   "metadata": {},
   "source": [
    "### 4. Preguntas basadas en los datos encontrados"
   ]
  },
  {
   "cell_type": "markdown",
   "id": "84e93357",
   "metadata": {},
   "source": [
    "#### Cuales son las actividades principales por Region ?"
   ]
  },
  {
   "cell_type": "code",
   "execution_count": 115,
   "id": "2661985a",
   "metadata": {},
   "outputs": [
    {
     "data": {
      "text/html": [
       "<div>\n",
       "<style scoped>\n",
       "    .dataframe tbody tr th:only-of-type {\n",
       "        vertical-align: middle;\n",
       "    }\n",
       "\n",
       "    .dataframe tbody tr th {\n",
       "        vertical-align: top;\n",
       "    }\n",
       "\n",
       "    .dataframe thead th {\n",
       "        text-align: right;\n",
       "    }\n",
       "</style>\n",
       "<table border=\"1\" class=\"dataframe\">\n",
       "  <thead>\n",
       "    <tr style=\"text-align: right;\">\n",
       "      <th></th>\n",
       "      <th>Agriculture</th>\n",
       "      <th>Industry</th>\n",
       "      <th>Service</th>\n",
       "    </tr>\n",
       "    <tr>\n",
       "      <th>Region</th>\n",
       "      <th></th>\n",
       "      <th></th>\n",
       "      <th></th>\n",
       "    </tr>\n",
       "  </thead>\n",
       "  <tbody>\n",
       "    <tr>\n",
       "      <th>ASIA (EX. NEAR EAST)</th>\n",
       "      <td>0.178571</td>\n",
       "      <td>0.302143</td>\n",
       "      <td>0.520000</td>\n",
       "    </tr>\n",
       "    <tr>\n",
       "      <th>BALTICS</th>\n",
       "      <td>0.046667</td>\n",
       "      <td>0.293333</td>\n",
       "      <td>0.663333</td>\n",
       "    </tr>\n",
       "    <tr>\n",
       "      <th>C.W. OF IND. STATES</th>\n",
       "      <td>0.190833</td>\n",
       "      <td>0.329167</td>\n",
       "      <td>0.480833</td>\n",
       "    </tr>\n",
       "    <tr>\n",
       "      <th>EASTERN EUROPE</th>\n",
       "      <td>0.092500</td>\n",
       "      <td>0.309167</td>\n",
       "      <td>0.597500</td>\n",
       "    </tr>\n",
       "    <tr>\n",
       "      <th>LATIN AMER. &amp; CARIB</th>\n",
       "      <td>0.087556</td>\n",
       "      <td>0.244889</td>\n",
       "      <td>0.622222</td>\n",
       "    </tr>\n",
       "    <tr>\n",
       "      <th>NEAR EAST</th>\n",
       "      <td>0.064375</td>\n",
       "      <td>0.406875</td>\n",
       "      <td>0.531250</td>\n",
       "    </tr>\n",
       "    <tr>\n",
       "      <th>NORTHERN AFRICA</th>\n",
       "      <td>0.113333</td>\n",
       "      <td>0.356667</td>\n",
       "      <td>0.433333</td>\n",
       "    </tr>\n",
       "    <tr>\n",
       "      <th>NORTHERN AMERICA</th>\n",
       "      <td>0.008000</td>\n",
       "      <td>0.118000</td>\n",
       "      <td>0.472000</td>\n",
       "    </tr>\n",
       "    <tr>\n",
       "      <th>OCEANIA</th>\n",
       "      <td>0.133333</td>\n",
       "      <td>0.163810</td>\n",
       "      <td>0.463810</td>\n",
       "    </tr>\n",
       "    <tr>\n",
       "      <th>SUB-SAHARAN AFRICA</th>\n",
       "      <td>0.272941</td>\n",
       "      <td>0.256667</td>\n",
       "      <td>0.432549</td>\n",
       "    </tr>\n",
       "    <tr>\n",
       "      <th>WESTERN EUROPE</th>\n",
       "      <td>0.040000</td>\n",
       "      <td>0.211071</td>\n",
       "      <td>0.613571</td>\n",
       "    </tr>\n",
       "  </tbody>\n",
       "</table>\n",
       "</div>"
      ],
      "text/plain": [
       "                                     Agriculture  Industry   Service\n",
       "Region                                                              \n",
       "ASIA (EX. NEAR EAST)                    0.178571  0.302143  0.520000\n",
       "BALTICS                                 0.046667  0.293333  0.663333\n",
       "C.W. OF IND. STATES                     0.190833  0.329167  0.480833\n",
       "EASTERN EUROPE                          0.092500  0.309167  0.597500\n",
       "LATIN AMER. & CARIB                     0.087556  0.244889  0.622222\n",
       "NEAR EAST                               0.064375  0.406875  0.531250\n",
       "NORTHERN AFRICA                         0.113333  0.356667  0.433333\n",
       "NORTHERN AMERICA                        0.008000  0.118000  0.472000\n",
       "OCEANIA                                 0.133333  0.163810  0.463810\n",
       "SUB-SAHARAN AFRICA                      0.272941  0.256667  0.432549\n",
       "WESTERN EUROPE                          0.040000  0.211071  0.613571"
      ]
     },
     "execution_count": 115,
     "metadata": {},
     "output_type": "execute_result"
    }
   ],
   "source": [
    "actividad_df = pd.pivot_table (df,\n",
    "                               values = ['Agriculture','Industry','Service'],\n",
    "                               index = 'Region',\n",
    "                               aggfunc = 'mean')\n",
    "actividad_df"
   ]
  },
  {
   "cell_type": "code",
   "execution_count": 155,
   "id": "44af83f6",
   "metadata": {},
   "outputs": [
    {
     "data": {
      "text/plain": [
       "<AxesSubplot:title={'center':'Actividad por Region'}, xlabel='Region'>"
      ]
     },
     "execution_count": 155,
     "metadata": {},
     "output_type": "execute_result"
    },
    {
     "data": {
      "image/png": "[encoded data removed]",
      "text/plain": [
       "<Figure size 720x576 with 1 Axes>"
      ]
     },
     "metadata": {
      "needs_background": "light"
     },
     "output_type": "display_data"
    }
   ],
   "source": [
    "actividad_df.plot(kind = 'bar',figsize = (10,8),title = 'Actividad por Region')"
   ]
  },
  {
   "cell_type": "markdown",
   "id": "8d5369ff",
   "metadata": {},
   "source": [
    "Podemos visualizar que la agricultura es la actividad menos utilizada en las regiones y en cambio los servicios es la de mayor actividad."
   ]
  },
  {
   "cell_type": "markdown",
   "id": "1541d57b",
   "metadata": {},
   "source": [
    "#### Cuales son los 10 paises con mayor area territorial en el mundo?"
   ]
  },
  {
   "cell_type": "code",
   "execution_count": 160,
   "id": "13f391c0",
   "metadata": {},
   "outputs": [],
   "source": [
    "area_df = pd.pivot_table (df,\n",
    "                         values = 'Area (sq. mi.)',\n",
    "                        index = 'Country'\n",
    "    )"
   ]
  },
  {
   "cell_type": "code",
   "execution_count": 168,
   "id": "61e63225",
   "metadata": {},
   "outputs": [
    {
     "data": {
      "text/plain": [
       "<AxesSubplot:title={'center':'los 10 paises con mayor territorio'}, ylabel='Country'>"
      ]
     },
     "execution_count": 168,
     "metadata": {},
     "output_type": "execute_result"
    },
    {
     "data": {
      "image/png": "[encoded data removed]",
      "text/plain": [
       "<Figure size 432x288 with 1 Axes>"
      ]
     },
     "metadata": {
      "needs_background": "light"
     },
     "output_type": "display_data"
    }
   ],
   "source": [
    "area_df.sort_values('Area (sq. mi.)').tail(10).plot (kind = 'barh', title = 'los 10 paises con mayor territorio')"
   ]
  },
  {
   "cell_type": "markdown",
   "id": "e8c5be8b",
   "metadata": {},
   "source": [
    "### 5. Problemas encontrados"
   ]
  },
  {
   "cell_type": "markdown",
   "id": "cba6d0c5",
   "metadata": {},
   "source": [
    "#### Como limitante de este ejercicio encontramos que el data set seleccionado solo contenia la informacion agregada a nivel pais, eso limito a solo region-pais, si queriamos expandirlo a ciudades, no era posible.\n",
    "\n",
    "### "
   ]
  },
  {
   "cell_type": "markdown",
   "id": "7d1789e4",
   "metadata": {},
   "source": [
    "### 6. Siguientes pasos"
   ]
  },
  {
   "cell_type": "markdown",
   "id": "648420e3",
   "metadata": {},
   "source": [
    "##### Para profundizar en el analisis, podemos buscar los datos necesarios para llegar a un nivel de detalle mayor, por ejemplo, tener las ciudades y asi poder sacar una estadistica por macro ciudades y establecer patrones de ocmportamiento agregando datos mas relevantes de clima o infraestructura."
   ]
  },
  {
   "cell_type": "code",
   "execution_count": null,
   "id": "bff54150",
   "metadata": {},
   "outputs": [],
   "source": []
  }
 ],
 "metadata": {
  "kernelspec": {
   "display_name": "Python 3 (ipykernel)",
   "language": "python",
   "name": "python3"
  },
  "language_info": {
   "codemirror_mode": {
    "name": "ipython",
    "version": 3
   },
   "file_extension": ".py",
   "mimetype": "text/x-python",
   "name": "python",
   "nbconvert_exporter": "python",
   "pygments_lexer": "ipython3",
   "version": "3.9.12"
  }
 },
 "nbformat": 4,
 "nbformat_minor": 5
}
